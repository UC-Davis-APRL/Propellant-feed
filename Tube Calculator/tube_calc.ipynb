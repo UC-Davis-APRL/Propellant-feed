{
 "cells": [
  {
   "cell_type": "code",
   "execution_count": 1,
   "metadata": {},
   "outputs": [],
   "source": [
    "import numpy as np\n",
    "import matplotlib.pyplot as plt\n",
    "import fluids as fl\n"
   ]
  },
  {
   "cell_type": "code",
   "execution_count": 2,
   "metadata": {},
   "outputs": [],
   "source": [
    "\n",
    "def variablesFunc():\n",
    "    #Input Variables\n",
    "    massFlow = float(input(\"Enter Mass Flow Rate (kg/s): \"))\n",
    "    density = float(input(\"Enter Fluid Density (kg/m^3): \"))\n",
    "    viscosity = float(input(\"Enter Fluid Viscosity (Pa*s): \"))\n",
    "    roughness = float(input(\"Enter Pipe Roughness (m): \"))\n",
    "    diamRange = np.arange(float(input(\"Enter Minimum Pipe ID (m): \")), float(input(\"Enter Maximum Pipe ID (m): \")), 1)\n",
    "    straightLength = float(input(\"Enter Total Length of System (m): \"))\n",
    "    \n",
    "    #Calculated Variables\n",
    "    areaRange = np.array(np.square((diamRange / 2)) * np.pi)\n",
    "    velocityRange = np.array(np.divide((massFlow), (areaRange * density)))\n",
    "    reynoldsRange = np.array((density * velocityRange * diamRange) / viscosity)\n",
    "    \n",
    "    #Friction Factor Calculation\n",
    "    frictionFactorRange = np.empty(len(diamRange))\n",
    "    for i in np.arange(0, len(frictionFactorRange), 1):\n",
    "        if reynoldsRange[i] <= 2000:\n",
    "            frictionFactorRange[i] = 64 / reynoldsRange[i]\n",
    "        elif reynoldsRange[i] < 4000:\n",
    "            frictionFactorRange[i] = 64 / reynoldsRange[i] #should be replaced with whatever actually happens at transitional flow\n",
    "        elif reynoldsRange[i] >= 4000:\n",
    "            frictionFactorRange[i] = haaland(reynoldsRange[i], roughness, diamRange[i])\n",
    "            #frictionFactorRange[i] = colebrookSolver(reynoldsRange[i], roughness, diamRange[i])\n",
    "    \n",
    "    #For debugging\n",
    "    #print(f\"Diameters: {diamRange} \\n\")\n",
    "    #print(f\"Area: {areaRange} \\n\")\n",
    "    #print(f\"Velocity: {velocityRange} \\n\")\n",
    "\n",
    "    return frictionFactorRange, density, velocityRange, diamRange, straightLength\n"
   ]
  },
  {
   "cell_type": "code",
   "execution_count": 3,
   "metadata": {},
   "outputs": [],
   "source": [
    "def colebrook(f, Re, e, D):\n",
    "    return 1/np.sqrt(f) + 2*np.log10((e/D)/3.7 + 2.51/(Re*np.sqrt(f)))"
   ]
  },
  {
   "cell_type": "code",
   "execution_count": 4,
   "metadata": {},
   "outputs": [],
   "source": [
    "def colebrookSolver(Re, e, D, tolerance=1e-6, maxIterations=100):\n",
    "    f = 0.02  # Initial guess for the friction factor\n",
    "\n",
    "    for i in range(maxIterations):\n",
    "        fNew = f - colebrook(f, Re, e, D)\n",
    "        \n",
    "        if abs(fNew - f) < tolerance:\n",
    "            return fNew\n",
    "        \n",
    "        f = fNew"
   ]
  },
  {
   "cell_type": "code",
   "execution_count": 5,
   "metadata": {},
   "outputs": [],
   "source": [
    "def straightDarcyWeisbach():\n",
    "    f, rho, u_avg, D, L = variablesFunc()\n",
    "    Pdrop = f * L * (rho/2) * np.divide(np.square(u_avg), D)\n",
    "    fig, ax = plt.subplots()\n",
    "    varPlot = ax.plot(D, Pdrop)\n",
    "    ax.set_xscale('linear')\n",
    "    ax.set_yscale('linear')\n",
    "    plt.show()\n",
    "    return Pdrop"
   ]
  },
  {
   "cell_type": "code",
   "execution_count": 6,
   "metadata": {},
   "outputs": [],
   "source": [
    "def haaland(Re, e, D):\n",
    "    return np.power((1/(-1.8 * np.log10(np.power((e/D)/3.7, 1.11) + (6.9/Re)))), 2)"
   ]
  }
 ],
 "metadata": {
  "kernelspec": {
   "display_name": "Python 3",
   "language": "python",
   "name": "python3"
  },
  "language_info": {
   "codemirror_mode": {
    "name": "ipython",
    "version": 3
   },
   "file_extension": ".py",
   "mimetype": "text/x-python",
   "name": "python",
   "nbconvert_exporter": "python",
   "pygments_lexer": "ipython3",
   "version": "3.12.0"
  }
 },
 "nbformat": 4,
 "nbformat_minor": 2
}

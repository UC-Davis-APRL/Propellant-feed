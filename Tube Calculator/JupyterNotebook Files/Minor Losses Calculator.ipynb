{
 "cells": [
  {
   "cell_type": "code",
   "execution_count": 458,
   "metadata": {},
   "outputs": [],
   "source": [
    "import numpy as np\n",
    "import matplotlib.pyplot as plt\n",
    "import fluids as fl\n",
    "import sympy as sp\n",
    "from pint import _DEFAULT_REGISTRY as u"
   ]
  },
  {
   "cell_type": "code",
   "execution_count": 459,
   "metadata": {},
   "outputs": [],
   "source": [
    "class propFeed():\n",
    "    def __init__(self):\n",
    "        self.componentName = None\n",
    "        self.componentNumber = None #For sorting later"
   ]
  },
  {
   "cell_type": "code",
   "execution_count": 460,
   "metadata": {},
   "outputs": [],
   "source": [
    "class liquids(propFeed):\n",
    "    def __init__(self, propellantName, liquidDensity, liquidViscosity, liquidMassFlow):\n",
    "        self.propellantName = propellantName\n",
    "        self.liquidDensity = liquidDensity\n",
    "        self.liquidViscosity = liquidViscosity\n",
    "        self.liquidMassFlow = liquidMassFlow\n",
    "\n",
    "    #Establishing sorting criteria\n",
    "    def __lt__(self, other):\n",
    "        return self.componentNumber < other.componentNumber"
   ]
  },
  {
   "cell_type": "code",
   "execution_count": 461,
   "metadata": {},
   "outputs": [],
   "source": [
    "class liquidValves(liquids):\n",
    "    def __init__(self, ID, Cv, componentNumber, componentName, **args):\n",
    "        self.Cv = Cv\n",
    "        self.ID = ID\n",
    "        self.area = np.pi*((ID/2)**2)\n",
    "        \n",
    "        #Runs the superclass constructor with the additional arguments (which are meant to be the unpacked attributes of a liquid profile)\n",
    "        super().__init__(**args)\n",
    "        self.componentNumber = componentNumber\n",
    "        self.componentName = componentName\n",
    "\n",
    "        self.velocity = self.liquidMassFlow / (self.liquidDensity * self.area)\n",
    "        self.K = fl.units.Cv_to_K(Cv, ID)\n",
    "        self.pressureDrop = (fl.units.dP_from_K(K = self.K, rho = self.liquidDensity, V = self.velocity)).to(\"psi\")\n",
    "\n",
    "    #def KFactorFunc(self):\n",
    "        #K, Cv, ID = sp.symbols(\"K, Cv, ID\", real=True)\n",
    "        #eqn = sp.Eq(K, (1.6 * 10**9)*((ID**4)/(Cv/1.56)**2))\n",
    "        #solutionList = sp.solve(eqn, K)\n",
    "        #solution = solutionList[0].subs([(Cv, self.Cv), (ID, self.Cv)])\n",
    "        #print(solution)"
   ]
  },
  {
   "cell_type": "code",
   "execution_count": 462,
   "metadata": {},
   "outputs": [],
   "source": [
    "class liquidBends(liquids):\n",
    "    def __init__(self, ID, bendAngle, bendRadius, roughness, componentNumber, componentName, **args):\n",
    "        self.ID = ID\n",
    "        self.angle = bendAngle\n",
    "        self.bendRadius = bendRadius\n",
    "        self.roughness = roughness\n",
    "        self.area = np.pi*((ID/2)**2)\n",
    "        \n",
    "        #Runs the superclass constructor with the additional arguments (which are meant to be the unpacked attributes of a liquid profile)\n",
    "        super().__init__(**args)\n",
    "        self.componentNumber = componentNumber\n",
    "        self.componentName = componentName\n",
    "\n",
    "        self.velocity = self.liquidMassFlow / (self.liquidDensity * self.area)\n",
    "        self.reynolds = fl.units.Reynolds(V = self.velocity, D = self.ID, rho = self.liquidDensity, mu = self.liquidViscosity)\n",
    "        self.frictionFactor = fl.units.friction_factor(Re = self.reynolds, eD = (self.roughness/self.ID), Darcy = True)\n",
    "        self.K = fl.units.bend_rounded(Di = self.ID, angle = self.angle, rc = self.bendRadius, fd = self.frictionFactor, Re = self.reynolds, roughness = self.roughness, method = 'Rennels')\n",
    "        self.pressureDrop = (fl.units.dP_from_K(K = self.K, rho = self.liquidDensity, V = self.velocity)).to(\"psi\")\n"
   ]
  },
  {
   "cell_type": "code",
   "execution_count": 463,
   "metadata": {},
   "outputs": [
    {
     "name": "stdout",
     "output_type": "stream",
     "text": [
      "LOXValve1:\n",
      "ID: 0.25 inch\n",
      "Area: 0.04908738521234052 inch ** 2\n",
      "Velocity: 0.037039695846841095 meter ** 3 / inch ** 2 / second\n",
      "KFactor: 0.09658342579659235 dimensionless\n",
      "Density: 1100 kilogram / meter ** 3\n",
      "PressureDrop: 25.394886105842872 pound_force_per_square_inch\n",
      "\n",
      "LOXBend1:\n",
      "ID: 0.25 inch\n",
      "Area: 0.04908738521234052 inch ** 2\n",
      "Velocity: 0.037039695846841095 meter ** 3 / inch ** 2 / second\n",
      "KFactor: 0.11758773100581164 dimensionless\n",
      "Density: 1100 kilogram / meter ** 3\n",
      "PressureDrop: 30.917592865529024 pound_force_per_square_inch\n"
     ]
    }
   ],
   "source": [
    "#Create a liquid object \"profile\"\n",
    "LOX = liquids(propellantName = \"LOX\", liquidDensity = 1100*(u.kilogram/u.meter**3), liquidViscosity = 274.41*(u.micropascal*u.second), liquidMassFlow = 2*(u.kilogram/u.second))\n",
    "Kerosene = liquids(propellantName = \"Kerosene\", liquidDensity = 0.81*(u.gram/u.centimeter**3), liquidViscosity = 0.00164*(u.pascal*u.second), liquidMassFlow = 0.91*(u.kilogram/u.second))\n",
    "\n",
    "#Create objects of various classes\n",
    "#Notice that the first argument is always an unpacked dict of the component's corresponding liquid profile, followed by arguments unique to that class of components\n",
    "LOXValve1 = liquidValves(**LOX.__dict__, ID = 0.25*(u.inch), Cv = 6*(u.gallon/u.minute), componentNumber = 1, componentName = \"LOXValve1\")\n",
    "LOXBend1 = liquidBends(**LOX.__dict__, ID = 0.25*(u.inch), bendAngle = 45*(u.degree), bendRadius = 1*(u.inch), roughness = 1*(u.micron), componentNumber = 2, componentName = \"LOXBend1\")\n",
    "\n",
    "print(\"LOXValve1:\")\n",
    "print(f\"ID: {LOXValve1.ID}\")\n",
    "print(f\"Area: {LOXValve1.area}\")\n",
    "print(f\"Velocity: {LOXValve1.velocity}\")\n",
    "print(f\"KFactor: {LOXValve1.K}\")\n",
    "print(f\"Density: {LOXValve1.liquidDensity}\")\n",
    "print(f\"PressureDrop: {LOXValve1.pressureDrop}\\n\")\n",
    "\n",
    "print(\"LOXBend1:\")\n",
    "print(f\"ID: {LOXBend1.ID}\")\n",
    "print(f\"Area: {LOXBend1.area}\")\n",
    "print(f\"Velocity: {LOXBend1.velocity}\")\n",
    "print(f\"KFactor: {LOXBend1.K}\")\n",
    "print(f\"Density: {LOXBend1.liquidDensity}\")\n",
    "print(f\"PressureDrop: {LOXBend1.pressureDrop}\")\n"
   ]
  },
  {
   "cell_type": "code",
   "execution_count": 464,
   "metadata": {},
   "outputs": [
    {
     "name": "stdout",
     "output_type": "stream",
     "text": [
      "Name: LOXValve1, Component Number: 1\n",
      "Inlet Pressure: 800 pound_force_per_square_inch\n",
      "Outlet Pressure: 774.6051138941572 pound_force_per_square_inch\n",
      "Pressure Drop: 25.394886105842872 pound_force_per_square_inch\n",
      "\n",
      "Name: LOXBend1, Component Number: 2\n",
      "Inlet Pressure: 774.6051138941572 pound_force_per_square_inch\n",
      "Outlet Pressure: 743.6875210286281 pound_force_per_square_inch\n",
      "Pressure Drop: 30.917592865529024 pound_force_per_square_inch\n",
      "\n",
      "[<Quantity(800, 'pound_force_per_square_inch')>, <Quantity(774.605114, 'pound_force_per_square_inch')>, <Quantity(743.687521, 'pound_force_per_square_inch')>]\n"
     ]
    }
   ],
   "source": [
    "components = [LOXBend1, LOXValve1]\n",
    "sortedComponents = sorted(components) #sorts components\n",
    "\n",
    "#Create initial pressure and array to keep track of pressure\n",
    "initialPressure = 800*(u.psi)\n",
    "pressureTracker = []\n",
    "pressureTracker.append(initialPressure)\n",
    "\n",
    "#Iterates through every component\n",
    "for component in sortedComponents:\n",
    "    print(f\"Name: {component.componentName}, Component Number: {component.componentNumber}\")\n",
    "    print(f\"Inlet Pressure: {initialPressure}\")\n",
    "\n",
    "    #Update Pressure\n",
    "    initialPressure = initialPressure - component.pressureDrop\n",
    "    pressureTracker.append(initialPressure)\n",
    "\n",
    "    print(f\"Outlet Pressure: {initialPressure}\")\n",
    "    print(f\"Pressure Drop: {component.pressureDrop}\\n\")\n",
    "\n",
    "print(pressureTracker)"
   ]
  }
 ],
 "metadata": {
  "kernelspec": {
   "display_name": "Python 3",
   "language": "python",
   "name": "python3"
  },
  "language_info": {
   "codemirror_mode": {
    "name": "ipython",
    "version": 3
   },
   "file_extension": ".py",
   "mimetype": "text/x-python",
   "name": "python",
   "nbconvert_exporter": "python",
   "pygments_lexer": "ipython3",
   "version": "3.12.0"
  }
 },
 "nbformat": 4,
 "nbformat_minor": 2
}

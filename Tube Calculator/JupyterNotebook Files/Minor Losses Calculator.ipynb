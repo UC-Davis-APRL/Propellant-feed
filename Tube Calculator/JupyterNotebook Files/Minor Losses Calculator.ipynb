{
 "cells": [
  {
   "cell_type": "code",
   "execution_count": 25,
   "metadata": {},
   "outputs": [],
   "source": [
    "import numpy as np\n",
    "import matplotlib.pyplot as plt\n",
    "import fluids as fl\n",
    "import sympy as sp\n",
    "from pint import _DEFAULT_REGISTRY as u"
   ]
  },
  {
   "cell_type": "code",
   "execution_count": 26,
   "metadata": {},
   "outputs": [],
   "source": [
    "class propFeed():\n",
    "    def __init__(self):\n",
    "        self.componentName = None\n",
    "        self.componentNumber = None #For sorting later\n",
    "\n",
    "    #Establishing sorting criteria\n",
    "    def __lt__(self, other):\n",
    "        return self.componentNumber < other.componentNumber"
   ]
  },
  {
   "cell_type": "code",
   "execution_count": 27,
   "metadata": {},
   "outputs": [],
   "source": [
    "class liquids(propFeed):\n",
    "    def __init__(self, propellantName, liquidDensity, liquidViscosity, liquidMassFlow):\n",
    "        self.propellantName = propellantName\n",
    "        self.liquidDensity = liquidDensity\n",
    "        self.liquidViscosity = liquidViscosity\n",
    "        self.liquidMassFlow = liquidMassFlow"
   ]
  },
  {
   "cell_type": "code",
   "execution_count": 28,
   "metadata": {},
   "outputs": [],
   "source": [
    "class liquidValves(liquids):\n",
    "    def __init__(self, ID, Cv, componentNumber, componentName, **args):\n",
    "        self.Cv = Cv\n",
    "        self.ID = ID\n",
    "        self.area = (np.pi*((ID/2)**2))\n",
    "        \n",
    "        #Runs the superclass constructor with the additional arguments (which are meant to be the unpacked attributes of a liquid profile)\n",
    "        super().__init__(**args)\n",
    "        self.componentNumber = componentNumber\n",
    "        self.componentName = componentName\n",
    "\n",
    "        self.velocity = self.liquidMassFlow / (self.liquidDensity * self.area.to(\"meter**2\"))\n",
    "        self.K = fl.units.Cv_to_K(Cv, ID)\n",
    "        self.pressureDrop = (fl.units.dP_from_K(K = self.K, rho = self.liquidDensity, V = self.velocity)).to(\"psi\")\n",
    "\n",
    "    #def KFactorFunc(self):\n",
    "        #K, Cv, ID = sp.symbols(\"K, Cv, ID\", real=True)\n",
    "        #eqn = sp.Eq(K, (1.6 * 10**9)*((ID**4)/(Cv/1.56)**2))\n",
    "        #solutionList = sp.solve(eqn, K)\n",
    "        #solution = solutionList[0].subs([(Cv, self.Cv), (ID, self.Cv)])\n",
    "        #print(solution)"
   ]
  },
  {
   "cell_type": "code",
   "execution_count": 29,
   "metadata": {},
   "outputs": [],
   "source": [
    "class liquidBends(liquids):\n",
    "    def __init__(self, ID, bendAngle, bendRadius, roughness, componentNumber, componentName, **args):\n",
    "        self.ID = ID\n",
    "        self.angle = bendAngle\n",
    "        self.bendRadius = bendRadius\n",
    "        self.roughness = roughness\n",
    "        self.area = np.pi*((ID/2)**2)\n",
    "        \n",
    "        #Runs the superclass constructor with the additional arguments (which are meant to be the unpacked attributes of a liquid profile)\n",
    "        super().__init__(**args)\n",
    "        self.componentNumber = componentNumber\n",
    "        self.componentName = componentName\n",
    "\n",
    "        self.velocity = self.liquidMassFlow / (self.liquidDensity * self.area.to(\"meter**2\"))\n",
    "        self.reynolds = fl.units.Reynolds(V = self.velocity, D = self.ID, rho = self.liquidDensity, mu = self.liquidViscosity)\n",
    "        self.frictionFactor = fl.units.friction_factor(Re = self.reynolds, eD = (self.roughness/self.ID), Darcy = True)\n",
    "        self.K = fl.units.bend_rounded(Di = self.ID, angle = self.angle, rc = self.bendRadius, fd = self.frictionFactor, Re = self.reynolds, roughness = self.roughness, method = 'Rennels')\n",
    "        self.pressureDrop = (fl.units.dP_from_K(K = self.K, rho = self.liquidDensity, V = self.velocity)).to(\"psi\")\n"
   ]
  },
  {
   "cell_type": "code",
   "execution_count": 30,
   "metadata": {},
   "outputs": [],
   "source": [
    "class liquidStraights(liquids):\n",
    "    def __init__(self, ID, length, roughness, componentNumber, componentName, **args):\n",
    "        self.ID = ID\n",
    "        self.length = length\n",
    "        self.roughness = roughness\n",
    "        self.area = np.pi*((ID/2)**2)\n",
    "        \n",
    "        #Runs the superclass constructor with the additional arguments (which are meant to be the unpacked attributes of a liquid profile)\n",
    "        super().__init__(**args)\n",
    "        self.componentNumber = componentNumber\n",
    "        self.componentName = componentName\n",
    "\n",
    "        self.velocity = self.liquidMassFlow / (self.liquidDensity * self.area.to(\"meter**2\"))\n",
    "        self.reynolds = fl.units.Reynolds(V = self.velocity, D = self.ID, rho = self.liquidDensity, mu = self.liquidViscosity)\n",
    "        self.frictionFactor = fl.units.friction_factor(Re = self.reynolds, eD = (self.roughness/self.ID), Darcy = True)\n",
    "        self.K = fl.units.K_from_f(fd = self.frictionFactor, L = self.length, D = self.ID)\n",
    "        self.pressureDrop = (fl.units.dP_from_K(K = self.K, rho = self.liquidDensity, V = self.velocity)).to(\"psi\")\n"
   ]
  },
  {
   "cell_type": "code",
   "execution_count": 31,
   "metadata": {},
   "outputs": [
    {
     "name": "stdout",
     "output_type": "stream",
     "text": [
      "LOXValve1:\n",
      "ID: 0.25 inch\n",
      "Area: 0.04908738521234052 inch ** 2\n",
      "Velocity: 52.6273397703996 meter / second\n",
      "KFactor: 0.09658342579659235 dimensionless\n",
      "Density: 1200 kilogram / meter ** 3\n",
      "PressureDrop: 23.278645597022635 pound_force_per_square_inch\n",
      "\n",
      "LOXBend1:\n",
      "ID: 0.25 inch\n",
      "Area: 0.04908738521234052 inch ** 2\n",
      "Velocity: 52.6273397703996 meter / second\n",
      "Reynolds: 1461391.0901586858 dimensionless\n",
      "KFactor: 0.16480868157221046 dimensionless\n",
      "Density: 1200 kilogram / meter ** 3\n",
      "PressureDrop: 39.722373253894276 pound_force_per_square_inch\n",
      "\n",
      "LOXStraight1:\n",
      "ID: 0.25 inch\n",
      "Area: 0.04908738521234052 inch ** 2\n",
      "Velocity: 52.6273397703996 meter / second\n",
      "Reynolds: 1461391.0901586858 dimensionless\n",
      "KFactor: 0.44305492624620374 dimensionless\n",
      "Density: 1200 kilogram / meter ** 3\n",
      "PressureDrop: 106.78559517883933 pound_force_per_square_inch\n"
     ]
    }
   ],
   "source": [
    "#Create a liquid object \"profile\"\n",
    "LOX = liquids(propellantName = \"LOX\", liquidDensity = 1200*(u.kilogram/u.meter**3), liquidViscosity = 274.41*(u.micropascal*u.second), liquidMassFlow = 2*(u.kilogram/u.second))\n",
    "Kerosene = liquids(propellantName = \"Kerosene\", liquidDensity = 0.81*(u.gram/u.centimeter**3), liquidViscosity = 0.00164*(u.pascal*u.second), liquidMassFlow = 0.91*(u.kilogram/u.second))\n",
    "\n",
    "#Create objects of various classes\n",
    "#Notice that the first argument is always an unpacked dict of the component's corresponding liquid profile, followed by arguments unique to that class of components\n",
    "LOXValve1 = liquidValves(**LOX.__dict__, ID = 0.25*(u.inch), Cv = 6*(u.gallon/u.minute), componentNumber = 1, componentName = \"LOXValve1\")\n",
    "LOXBend1 = liquidBends(**LOX.__dict__, ID = 0.25*(u.inch), bendAngle = 45*(u.degree), bendRadius = 1*(u.inch), roughness = 10*(u.micron), componentNumber = 2, componentName = \"LOXBend1\")\n",
    "LOXStraight1 = liquidStraights(**LOX.__dict__, ID = 0.25*(u.inch), length = 5*(u.inch), roughness = 10*(u.micron), componentNumber = 3, componentName = \"LOXStraight1\")\n",
    "\n",
    "#Print go brrr\n",
    "print(\"LOXValve1:\")\n",
    "print(f\"ID: {LOXValve1.ID}\")\n",
    "print(f\"Area: {LOXValve1.area}\")\n",
    "print(f\"Velocity: {LOXValve1.velocity}\")\n",
    "print(f\"KFactor: {LOXValve1.K}\")\n",
    "print(f\"Density: {LOXValve1.liquidDensity}\")\n",
    "print(f\"PressureDrop: {LOXValve1.pressureDrop}\\n\")\n",
    "\n",
    "print(\"LOXBend1:\")\n",
    "print(f\"ID: {LOXBend1.ID}\")\n",
    "print(f\"Area: {LOXBend1.area}\")\n",
    "print(f\"Velocity: {LOXBend1.velocity}\")\n",
    "print(f\"Reynolds: {LOXBend1.reynolds}\")\n",
    "print(f\"KFactor: {LOXBend1.K}\")\n",
    "print(f\"Density: {LOXBend1.liquidDensity}\")\n",
    "print(f\"PressureDrop: {LOXBend1.pressureDrop}\\n\")\n",
    "\n",
    "print(\"LOXStraight1:\")\n",
    "print(f\"ID: {LOXStraight1.ID}\")\n",
    "print(f\"Area: {LOXStraight1.area}\")\n",
    "print(f\"Velocity: {LOXStraight1.velocity}\")\n",
    "print(f\"Reynolds: {LOXStraight1.reynolds}\")\n",
    "print(f\"KFactor: {LOXStraight1.K}\")\n",
    "print(f\"Density: {LOXStraight1.liquidDensity}\")\n",
    "print(f\"PressureDrop: {LOXStraight1.pressureDrop}\")\n"
   ]
  },
  {
   "cell_type": "code",
   "execution_count": 32,
   "metadata": {},
   "outputs": [
    {
     "name": "stdout",
     "output_type": "stream",
     "text": [
      "Name: LOXValve1, Component Number: 1\n",
      "Inlet Pressure: 800 pound_force_per_square_inch\n",
      "Outlet Pressure: 776.7213544029773 pound_force_per_square_inch\n",
      "Pressure Drop: 23.278645597022635 pound_force_per_square_inch\n",
      "\n",
      "Name: LOXBend1, Component Number: 2\n",
      "Inlet Pressure: 776.7213544029773 pound_force_per_square_inch\n",
      "Outlet Pressure: 736.9989811490831 pound_force_per_square_inch\n",
      "Pressure Drop: 39.722373253894276 pound_force_per_square_inch\n",
      "\n",
      "Name: LOXStraight1, Component Number: 3\n",
      "Inlet Pressure: 736.9989811490831 pound_force_per_square_inch\n",
      "Outlet Pressure: 630.2133859702437 pound_force_per_square_inch\n",
      "Pressure Drop: 106.78559517883933 pound_force_per_square_inch\n",
      "\n",
      "[<Quantity(800, 'pound_force_per_square_inch')>, <Quantity(776.721354, 'pound_force_per_square_inch')>, <Quantity(736.998981, 'pound_force_per_square_inch')>, <Quantity(630.213386, 'pound_force_per_square_inch')>]\n",
      "\n",
      "Total Pressure Drop: 169.78661402975627 pound_force_per_square_inch\n"
     ]
    }
   ],
   "source": [
    "components = [LOXBend1, LOXValve1, LOXStraight1]\n",
    "sortedComponents = sorted(components) #sorts components\n",
    "\n",
    "#Create initial pressure and array to keep track of pressure\n",
    "initialPressure = 800*(u.psi)\n",
    "pressureTracker = []\n",
    "pressureTracker.append(initialPressure)\n",
    "\n",
    "#Iterates through every component\n",
    "for component in sortedComponents:\n",
    "    print(f\"Name: {component.componentName}, Component Number: {component.componentNumber}\")\n",
    "    print(f\"Inlet Pressure: {initialPressure}\")\n",
    "\n",
    "    #Update Pressure\n",
    "    initialPressure = initialPressure - component.pressureDrop\n",
    "    pressureTracker.append(initialPressure)\n",
    "\n",
    "    print(f\"Outlet Pressure: {initialPressure}\")\n",
    "    print(f\"Pressure Drop: {component.pressureDrop}\\n\")\n",
    "\n",
    "print(pressureTracker)\n",
    "print(f\"\\nTotal Pressure Drop: {pressureTracker[0] - initialPressure}\")"
   ]
  }
 ],
 "metadata": {
  "kernelspec": {
   "display_name": "Python 3",
   "language": "python",
   "name": "python3"
  },
  "language_info": {
   "codemirror_mode": {
    "name": "ipython",
    "version": 3
   },
   "file_extension": ".py",
   "mimetype": "text/x-python",
   "name": "python",
   "nbconvert_exporter": "python",
   "pygments_lexer": "ipython3",
   "version": "3.12.0"
  }
 },
 "nbformat": 4,
 "nbformat_minor": 2
}

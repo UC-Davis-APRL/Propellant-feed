{
 "cells": [
  {
   "cell_type": "code",
   "execution_count": 4,
   "metadata": {},
   "outputs": [],
   "source": [
    "import numpy as np\n",
    "import matplotlib.pyplot as plt\n",
    "import fluids # as fl\n",
    "import pint"
   ]
  },
  {
   "cell_type": "code",
   "execution_count": 5,
   "metadata": {},
   "outputs": [],
   "source": [
    "def variablesFunc():\n",
    "    #Input Variables\n",
    "    massFlow = 1\n",
    "    density = 1100\n",
    "    viscosity = 0.00016\n",
    "    roughness = 0.00001\n",
    "    diamRange = np.arange(float(input(\"Enter Minimum Pipe ID (m): \")), float(input(\"Enter Maximum Pipe ID (m): \")), float(input(\"Enter Step Size for Pipe ID (m): \")))\n",
    "    straightLength = float(input(\"Enter Total Length of System (m): \"))\n",
    "  \n",
    "    \n",
    "    #Calculated Variables\n",
    "    areaRange = np.array(np.square((diamRange / 2)) * np.pi)\n",
    "    velocityRange = np.array(np.divide((massFlow), (areaRange * density)))\n",
    "    reynoldsRange = fluids.vectorized.Reynolds(V=velocityRange, mu = viscosity, rho = density, D = diamRange)\n",
    "    frictionFactorRange = fluids.vectorized.friction_factor(Re = reynoldsRange, eD = np.divide(roughness,diamRange), Darcy = True)\n",
    "    kFactorRange = fluids.vectorized.K_from_f(fd = frictionFactorRange, L = straightLength, D = diamRange)\n",
    "    pressureDrop = fluids.vectorized.dP_from_K(K = kFactorRange, rho = density, V = velocityRange)\n",
    "    #Debugging: print(f\"Reynolds Range: {reynoldsRange}\\n Diameter Range: {diamRange}\")\n",
    "    #print (f \"\" )\n",
    "\n",
    "    fig, ax = plt.subplots()\n",
    "    varPlot = ax.plot(diamRange, pressureDrop)\n",
    "    ax.set_xscale('linear')\n",
    "    ax.set_yscale('linear')\n",
    "    plt.show()\n",
    "\n",
    "    return density, velocityRange, diamRange, straightLength"
   ]
  }
 ],
 "metadata": {
  "kernelspec": {
   "display_name": "Python 3",
   "language": "python",
   "name": "python3"
  },
  "language_info": {
   "codemirror_mode": {
    "name": "ipython",
    "version": 3
   },
   "file_extension": ".py",
   "mimetype": "text/x-python",
   "name": "python",
   "nbconvert_exporter": "python",
   "pygments_lexer": "ipython3",
   "version": "3.11.6"
  }
 },
 "nbformat": 4,
 "nbformat_minor": 2
}

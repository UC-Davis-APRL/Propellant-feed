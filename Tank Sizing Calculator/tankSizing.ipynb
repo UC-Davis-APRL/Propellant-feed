{
 "cells": [
  {
   "cell_type": "code",
   "execution_count": 94,
   "metadata": {},
   "outputs": [],
   "source": [
    "import math\n",
    "import numpy as np"
   ]
  },
  {
   "cell_type": "markdown",
   "metadata": {},
   "source": [
    "# LOX Tank Volume Calculator"
   ]
  },
  {
   "cell_type": "code",
   "execution_count": 95,
   "metadata": {},
   "outputs": [
    {
     "name": "stdout",
     "output_type": "stream",
     "text": [
      "lox massflow = 1.22230625 kg/s\n",
      "lox massflow = 2.6947208048749998 lb/s\n",
      "lox mass = 12.2230625 kg\n",
      "lox mass = 26.947208048749996 lb\n",
      "lox tank volume = 0.012810566205821772 m^3\n",
      "lox tank volume = 0.45240130238873416 ft^3\n"
     ]
    }
   ],
   "source": [
    "burntime=10 # seconds\n",
    "massflow_pressurant=1.7779 #kg/s\n",
    "OF=2.2 # Oxidizer to Fuel ratio\n",
    "ullageRatio=1.15 # percentage of tank that is ullage\n",
    "#T= # in Kelvin\n",
    "density=1097.26 #kg/m^3\n",
    "\n",
    "def loxVolume(burntime, massflow_pressurant, OF, ullageRatio):\n",
    "    massflow=massflow_pressurant*OF/(OF+1)\n",
    "    mass=burntime*massflow\n",
    "    volume=mass/density\n",
    "    volumeFinal=volume*ullageRatio\n",
    "    print(\"lox massflow = \" + str(massflow) + \" kg/s\")\n",
    "    print(\"lox massflow = \" + str(massflow*2.20462) + \" lb/s\")\n",
    "    print(\"lox mass = \" + str(mass) + \" kg\")\n",
    "    print(\"lox mass = \" + str(mass*2.20462) + \" lb\")\n",
    "    print(\"lox tank volume = \" + str(volumeFinal) + \" m^3\")\n",
    "    print(\"lox tank volume = \" + str(volumeFinal*35.3147) + \" ft^3\")\n",
    "    \n",
    "\n",
    "loxVolume(burntime,massflow_pressurant,OF,ullageRatio)"
   ]
  },
  {
   "cell_type": "markdown",
   "metadata": {},
   "source": [
    "# Kerosene Tank Volume Calculator"
   ]
  },
  {
   "cell_type": "code",
   "execution_count": 96,
   "metadata": {},
   "outputs": [
    {
     "name": "stdout",
     "output_type": "stream",
     "text": [
      "kerosene massflow = 0.553125 kg/s\n",
      "kerosene massflow = 1.2194304374999998 kg/s\n",
      "kerosene mass = 5.53125 kg\n",
      "kerosene mass = 12.194304375 lb\n",
      "kerosene tank volume = 0.007757240853658536 m^3\n",
      "kerosene tank volume = 0.2739446335746951 ft^3\n"
     ]
    }
   ],
   "source": [
    "burntime=10 # seconds\n",
    "massflow_pressurant=1.77 #kg/s\n",
    "OF=2.2 # Oxidizer to Fuel ratio\n",
    "ullageRatio=1.15 # percentage of tank that is ullage\n",
    "#T= # in Kelvin\n",
    "density=820 #kg/m^3\n",
    "\n",
    "def keroVolume(burntime, massflow_pressurant, OF, ullageRatio):\n",
    "    massflow=massflow_pressurant*1/(OF+1)\n",
    "    mass=burntime*massflow\n",
    "    volume=mass/density\n",
    "    volumeFinal=volume*ullageRatio\n",
    "    print(\"kerosene massflow = \" + str(massflow) + \" kg/s\")\n",
    "    print(\"kerosene massflow = \" + str(massflow*2.20462) + \" kg/s\")\n",
    "    print(\"kerosene mass = \" + str(mass) + \" kg\")\n",
    "    print(\"kerosene mass = \" + str(mass*2.20462) + \" lb\")\n",
    "    print(\"kerosene tank volume = \" + str(volumeFinal) + \" m^3\")\n",
    "    print(\"kerosene tank volume = \" + str(volumeFinal*35.3147) + \" ft^3\")\n",
    "    \n",
    "keroVolume(burntime,massflow_pressurant,OF,ullageRatio)"
   ]
  },
  {
   "cell_type": "markdown",
   "metadata": {},
   "source": [
    "# Tank Height Needed to House Propellant (With Ellipsoidal Ends)"
   ]
  },
  {
   "cell_type": "code",
   "execution_count": 97,
   "metadata": {},
   "outputs": [
    {
     "name": "stdout",
     "output_type": "stream",
     "text": [
      "propellant tank volume 473.2992 in^3\n",
      "volume of ellipsoidal caps = 37.69911184307752 in^3\n",
      "cylinder tank height for 6 in diameter with 1 in ellipsoidal caps is: 15.406201609208798 in\n"
     ]
    }
   ],
   "source": [
    "semi_axis=1 #in\n",
    "radius=3 #in\n",
    "propVolume=0.2739 #ft^3 (ullage ratio factored in from keroVolume function)\n",
    "\n",
    "def elpsTankHeight(semi_axis,radius, propVolume):\n",
    "    propVolume=propVolume*12**3 #ft^3 to in^3\n",
    "    print(\"propellant tank volume \" + str(propVolume) + \" in^3\")\n",
    "    elpsCapVolume=2*2/3*math.pi*radius**2*semi_axis #volume of both caps combined\n",
    "    print(\"volume of ellipsoidal caps = \" + str(elpsCapVolume) + \" in^3\")\n",
    "    elpsTankHeight=(propVolume - elpsCapVolume)/math.pi/radius**2 #solve for tank height in between caps\n",
    "    print(\"cylinder tank height for 6 in diameter with \" + str(semi_axis) + \" in ellipsoidal caps is: \" + str(elpsTankHeight) + \" in\")\n",
    "\n",
    "elpsTankHeight(semi_axis, radius, propVolume)"
   ]
  },
  {
   "cell_type": "markdown",
   "metadata": {},
   "source": [
    "# Pressurant Tank Volume Calculator"
   ]
  },
  {
   "cell_type": "code",
   "execution_count": 98,
   "metadata": {},
   "outputs": [
    {
     "name": "stdout",
     "output_type": "stream",
     "text": [
      "0.019710041005212245 Compressibility factor for N2 at temperature of 298 K and pressure of 2000.0psi\n",
      "\n",
      "\n",
      "0.07937097067984308 ft^3 Volume N2 for temperature of 298 K and pressure of 2000.0psi\n",
      "\n",
      "\n",
      "0.024636433824419532 Compressibility factor for N2 at temperature of 298 K and pressure of 2500.0psi\n",
      "\n",
      "\n",
      "0.07936737082248767 ft^3 Volume N2 for temperature of 298 K and pressure of 2500.0psi\n",
      "\n",
      "\n",
      "0.02956238122436565 Compressibility factor for N2 at temperature of 298 K and pressure of 3000.0psi\n",
      "\n",
      "\n",
      "0.0793637751358973 ft^3 Volume N2 for temperature of 298 K and pressure of 3000.0psi\n",
      "\n",
      "\n",
      "0.034487883978340586 Compressibility factor for N2 at temperature of 298 K and pressure of 3500.0psi\n",
      "\n",
      "\n",
      "0.07936018361202139 ft^3 Volume N2 for temperature of 298 K and pressure of 3500.0psi\n",
      "\n",
      "\n",
      "0.039412942857646405 Compressibility factor for N2 at temperature of 298 K and pressure of 4000.0psi\n",
      "\n",
      "\n",
      "0.07935659624283206 ft^3 Volume N2 for temperature of 298 K and pressure of 4000.0psi\n",
      "\n",
      "\n"
     ]
    },
    {
     "name": "stderr",
     "output_type": "stream",
     "text": [
      "C:\\Users\\jared\\AppData\\Local\\Temp\\ipykernel_18848\\2163250468.py:37: ComplexWarning: Casting complex values to real discards the imaginary part\n",
      "  Z[i] = max(valid_roots)\n"
     ]
    }
   ],
   "source": [
    "burntime=10 # seconds\n",
    "massflow_pressurant=1.7779 #kg/s\n",
    "OF=2.2 # Oxidizer to Fuel ratio\n",
    "ullageRatio=1.15 # percentage of tank that is ullage\n",
    "T=298 # K (298K is room temperature)\n",
    "P=np.linspace(2000,4000,5) # psi range of pressures\n",
    "density=1097.26 #kg/m^3\n",
    "\n",
    "def calculate_compressibility_factor(temperature, pressure):\n",
    "    # Constants for nitrogen (N2)\n",
    "    critical_temperature = 126.2  # K\n",
    "    critical_pressure = 3.39  # MPa\n",
    "    pressure=pressure*6894.76/1e6 # convert from psi\n",
    "\n",
    "    # Redlich-Kwong parameters\n",
    "    a = 0.42748 * (critical_temperature ** 2.5) / critical_pressure\n",
    "    b = 0.08664 * critical_temperature / critical_pressure\n",
    "\n",
    "    # Calculate A and B terms in the Redlich-Kwong equation\n",
    "    A = a * pressure / (8.314 * temperature ** 2)\n",
    "    B = b * pressure / (8.314 * temperature)\n",
    "\n",
    "    n=len(pressure)\n",
    "    Z=np.zeros(n)\n",
    "\n",
    "    # Solve the cubic equation to find the compressibility factor\n",
    "    for i in range(0,len(pressure)):\n",
    "        coefficients = [1, -1, A[i] - B[i] - B[i]**2, -A[i] * B[i]]\n",
    "        roots = np.roots(coefficients)\n",
    "        \n",
    "        # Filter the real and positive roots (physical solutions)\n",
    "        valid_roots = [root for root in roots if root.real > 0 and root.imag == 0]\n",
    "\n",
    "        if not valid_roots:\n",
    "            return None\n",
    "        else:\n",
    "            Z[i] = max(valid_roots)\n",
    "        \n",
    "    return Z\n",
    "\n",
    "def calculate_nitrogen_volume(massflow_pressurant, burntime, T, P, Z):\n",
    "    molar_mass_nitrogen = 0.0280134  # kg/mol\n",
    "    R = 8.314  # J/(mol·K)\n",
    "\n",
    "    P=P*6894.76 # convert from psi to Pa\n",
    "\n",
    "    mass = massflow_pressurant*burntime\n",
    "\n",
    "    moles_of_nitrogen = mass / molar_mass_nitrogen\n",
    "\n",
    "    volume = (Z * moles_of_nitrogen * R * T) / P\n",
    "\n",
    "    volume = volume * 35.3147 # convert from m^3 to ft^3\n",
    "\n",
    "    return volume\n",
    "\n",
    "Z=calculate_compressibility_factor(T,P)\n",
    "n2Volume=calculate_nitrogen_volume(massflow_pressurant, burntime, T, P, Z)\n",
    "for i in range(0,len(n2Volume)):\n",
    "    print(str(Z[i]) + \" Compressibility factor for N2 at temperature of \" + str(T) + \" K and pressure of \" + str(P[i]) + \"psi\")\n",
    "    print('\\n')\n",
    "    print(str(n2Volume[i]) + \" ft^3 Volume N2 for temperature of \" + str(T) + \" K and pressure of \" + str(P[i]) + \"psi\")\n",
    "    print('\\n')\n"
   ]
  },
  {
   "cell_type": "markdown",
   "metadata": {},
   "source": [
    "## Inputs\n",
    "Pressurant \\\n",
    "Burn Time \\\n",
    "Mass Flow \\\n",
    "Propellants \\\n",
    "\\\n",
    "Assuptions: \\\n",
    "Isothermal, Isenthalpic, adiabatic expansion \\ \n",
    "Ideal \\\n",
    "Compressibility factor \\\n",
    "\\\n",
    "Based on the assumption, only the output will be changed based on which values satisfy an equation within tolerance\n",
    "\\\n",
    "Pressurant (N2, H) \\\n",
    "OF ratio \\\n",
    "\\\n",
    "Propellants, only two temperatures needed \\\n",
    "incompressible \\\n",
    "\\\n",
    "Pressurant starts room temperature gets colder through adiabatic (assuming no energy leaves system) expansion. function of mass flow. Convert to volume increase to figure out temperature change. Temperature change will affect pressure in N2 line? Research needed.\\\n",
    "\n",
    "## Outputs\n",
    "Propellant tank volume \\\n",
    "\n"
   ]
  }
 ],
 "metadata": {
  "kernelspec": {
   "display_name": "Python 3",
   "language": "python",
   "name": "python3"
  },
  "language_info": {
   "codemirror_mode": {
    "name": "ipython",
    "version": 3
   },
   "file_extension": ".py",
   "mimetype": "text/x-python",
   "name": "python",
   "nbconvert_exporter": "python",
   "pygments_lexer": "ipython3",
   "version": "3.12.0"
  },
  "orig_nbformat": 4
 },
 "nbformat": 4,
 "nbformat_minor": 2
}

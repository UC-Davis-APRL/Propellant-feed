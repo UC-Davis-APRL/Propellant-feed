{
 "cells": [
  {
   "cell_type": "markdown",
   "metadata": {},
   "source": [
    "# Tank Sizing Python Code for Propellants and Pressurant Using Assumptions\n",
    "### Note: Only N2 for pressurant, LOX for oxidizer, and kerosene for fuel (SO FAR)\n",
    "### Note: Only isothermal assumption coded (SO FAR)"
   ]
  },
  {
   "cell_type": "code",
   "execution_count": 11,
   "metadata": {},
   "outputs": [],
   "source": [
    "import math\n",
    "import numpy as np\n",
    "import time\n",
    "\n",
    "import warnings\n",
    "warnings.filterwarnings('ignore')"
   ]
  },
  {
   "cell_type": "markdown",
   "metadata": {},
   "source": [
    "# LOX Tank Volume Calculator\n",
    "### Note: Density as a function of temperature and pressure yet to be implemented\n",
    "Density taken at boiling point of O2"
   ]
  },
  {
   "cell_type": "code",
   "execution_count": 12,
   "metadata": {},
   "outputs": [
    {
     "name": "stdout",
     "output_type": "stream",
     "text": [
      "lox massflow = 1.22230625 kg/s\n",
      "lox massflow = 2.6947208048749998 lb/s\n",
      "lox mass = 12.2230625 kg\n",
      "lox mass = 26.947208048749996 lb\n",
      "lox tank volume = 0.012810566205821772 m^3\n",
      "lox tank volume = 0.45240130238873416 ft^3\n"
     ]
    }
   ],
   "source": [
    "burntime=10 # seconds\n",
    "massflow_pressurant=1.7779 #kg/s\n",
    "OF=2.2 # Oxidizer to Fuel ratio\n",
    "ullageRatio=1.15 # percentage of tank that is ullage\n",
    "#T= # in Kelvin\n",
    "density=1097.26 #kg/m^3\n",
    "\n",
    "def loxVolumeCalc(burntime, massflow_pressurant, OF, ullageRatio):\n",
    "    massflow=massflow_pressurant*OF/(OF+1)\n",
    "    mass=burntime*massflow\n",
    "    volume=mass/density\n",
    "    volumeFinal=volume*ullageRatio\n",
    "    print(\"lox massflow = \" + str(massflow) + \" kg/s\")\n",
    "    print(\"lox massflow = \" + str(massflow*2.20462) + \" lb/s\")\n",
    "    print(\"lox mass = \" + str(mass) + \" kg\")\n",
    "    print(\"lox mass = \" + str(mass*2.20462) + \" lb\")\n",
    "    print(\"lox tank volume = \" + str(volumeFinal) + \" m^3\")\n",
    "    print(\"lox tank volume = \" + str(volumeFinal*35.3147) + \" ft^3\")\n",
    "\n",
    "    return volume\n",
    "    \n",
    "\n",
    "loxVolume = loxVolumeCalc(burntime,massflow_pressurant,OF,ullageRatio)"
   ]
  },
  {
   "cell_type": "markdown",
   "metadata": {},
   "source": [
    "# Kerosene Tank Volume Calculator\n",
    "### Note: Density as a function of temperature and pressure yet to be implemented\n",
    "Density taken at room temp. (298 K)"
   ]
  },
  {
   "cell_type": "code",
   "execution_count": 13,
   "metadata": {},
   "outputs": [
    {
     "name": "stdout",
     "output_type": "stream",
     "text": [
      "kerosene massflow = 0.553125 kg/s\n",
      "kerosene massflow = 1.2194304374999998 kg/s\n",
      "kerosene mass = 5.53125 kg\n",
      "kerosene mass = 12.194304375 lb\n",
      "kerosene tank volume = 0.007757240853658536 m^3\n",
      "kerosene tank volume = 0.2739446335746951 ft^3\n"
     ]
    }
   ],
   "source": [
    "burntime=10 # seconds\n",
    "massflow_pressurant=1.77 #kg/s\n",
    "OF=2.2 # Oxidizer to Fuel ratio\n",
    "ullageRatio=1.15 # percentage of tank that is ullage\n",
    "#T= # in Kelvin\n",
    "density=820 #kg/m^3\n",
    "\n",
    "def keroVolumeCalc(burntime, massflow_pressurant, OF, ullageRatio):\n",
    "    massflow=massflow_pressurant*1/(OF+1)\n",
    "    mass=burntime*massflow\n",
    "    volume=mass/density\n",
    "    volumeFinal=volume*ullageRatio\n",
    "    print(\"kerosene massflow = \" + str(massflow) + \" kg/s\")\n",
    "    print(\"kerosene massflow = \" + str(massflow*2.20462) + \" kg/s\")\n",
    "    print(\"kerosene mass = \" + str(mass) + \" kg\")\n",
    "    print(\"kerosene mass = \" + str(mass*2.20462) + \" lb\")\n",
    "    print(\"kerosene tank volume = \" + str(volumeFinal) + \" m^3\")\n",
    "    print(\"kerosene tank volume = \" + str(volumeFinal*35.3147) + \" ft^3\")\n",
    "\n",
    "    return volume\n",
    "    \n",
    "keroVolume = keroVolumeCalc(burntime,massflow_pressurant,OF,ullageRatio)"
   ]
  },
  {
   "cell_type": "markdown",
   "metadata": {},
   "source": [
    "# Tank Height Needed to House Propellant (With Ellipsoidal Ends)\n",
    "### Note: Does not account for thickness, thickness of tank assumed to be 0 in"
   ]
  },
  {
   "cell_type": "code",
   "execution_count": 14,
   "metadata": {},
   "outputs": [
    {
     "name": "stdout",
     "output_type": "stream",
     "text": [
      "propellant tank volume 473.2992 in^3\n",
      "volume of ellipsoidal caps = 37.69911184307752 in^3\n",
      "cylinder tank height for 6 in diameter with 1 in ellipsoidal caps is: 15.406201609208798 in\n"
     ]
    }
   ],
   "source": [
    "semi_axis=1 #in\n",
    "radius=3 #in\n",
    "propVolume=0.2739 #ft^3 (ullage ratio factored in from keroVolume function)\n",
    "\n",
    "def elpsTankHeight(semi_axis,radius, propVolume):\n",
    "    propVolume=propVolume*12**3 #ft^3 to in^3\n",
    "    print(\"propellant tank volume \" + str(propVolume) + \" in^3\")\n",
    "    elpsCapVolume=2*2/3*math.pi*radius**2*semi_axis #volume of both caps combined\n",
    "    print(\"volume of ellipsoidal caps = \" + str(elpsCapVolume) + \" in^3\")\n",
    "    elpsTankHeight=(propVolume - elpsCapVolume)/math.pi/radius**2 #solve for tank height in between caps\n",
    "    print(\"cylinder tank height for 6 in diameter with \" + str(semi_axis) + \" in ellipsoidal caps is: \" + str(elpsTankHeight) + \" in\")\n",
    "\n",
    "elpsTankHeight(semi_axis, radius, propVolume)"
   ]
  },
  {
   "cell_type": "markdown",
   "metadata": {},
   "source": [
    "# Pressurant Tank Volume Functions\n",
    "\n",
    "### Note: Compressibility and Volume Functions only run with at least two pressure values inputted, if you only want to try a single pressure use P=np.ones(2)*(pressure)\n",
    "### Note: Pressure must input in psi, Temperature must be input in Kelvin, mass must be in kg\n",
    "\n",
    "## Relations:\n",
    "\n",
    "We have three states of N2: (1) The initial state (i) of the N2 inside the pressurant tank before fire, (2) The state of the N2 leftover (L) in the pressurant tank after the fire, (3) and the state of the N2 that has displaced (D) into the propellant tanks.\n",
    "\n",
    "Assumptions:\n",
    "\n",
    "- Mass flow of propellants are constant\n",
    "- Volumetric flow of N2 constant\n",
    "\n",
    "Known variables:\n",
    "\n",
    "$ V_F = ... m^3 $ Volume of fuel tank \\\n",
    "$ V_O = ... m^3 $ Volume of the oxidizer tank \\\n",
    "$ C_{backflow} = \\frac{P_L}{P_{propellant}} = 1.15 $ Ratio between leftover N2 pressure and propellant pressure  \\\n",
    "$ P_{propellant} = 600 psi $ \\\n",
    "$ P_L = P_{propellant} C_{backflow} = 690 psi $ Pressure of leftover N2 \\\n",
    "$ P_D = P_{propellant} = 600 psi $ Pressure of displaced N2 \\\n",
    "$ R = 8.314 \\frac{J}{mol \\cdot K} $ \\\n",
    "$ M_{N2} = 28.01 [\\frac{kg}{kmol}] \\cdot \\frac{1}{1000}[\\frac{kmol}{mol}] = 0.02801 [\\frac{kg}{mol}] $ \\\n",
    "$ T_i = 298 K $ Initial temperature of N2 tank \\\n",
    "$ t_b = 10 s $ Burntime\n",
    "\n",
    "Unknown Variables:\n",
    "\n",
    "$ V_{N2} = $ Volume of pressurant tank \\\n",
    "$ n_t = n_L + n_D = $ Total moles of N2 \\\n",
    "$ T_L $ Temperature of leftover N2 \\\n",
    "$ T_D $ Temperature of displaced N2 \\\n",
    "$ P_i $ Initial N2 pressure\n",
    "\n",
    "## *Fundamentals of Engineering Thermodynamics, 8th Edition*\n",
    "\n",
    "Redlich-Kwong Equation:\n",
    "\n",
    "$$ P = \\frac{\\bar{R}T}{\\bar{v}-b} - \\frac{a}{\\bar{v}(\\bar{v}+b)T^{1/2}} $$\n",
    "\n",
    "Table A-1:\n",
    "\n",
    "$$ M_{N2} = 0.02801 [\\frac{kg}{mol}] $$\n",
    "\n",
    "Table A-24:\n",
    "\n",
    "$$ a_{N2} = 15.53 [bar \\frac{m^6}{kmol^2} K^{1/2}] \\cdot \\frac{1 [kmol^2]}{1e6 [mol^2]} \\cdot \\frac{1e5 [Pa]}{1[bar]} = 1.553 [Pa \\frac{m^6}{mol^2} K^{1/2}] $$\n",
    "\n",
    "$$ b_{N2} = 0.02677 [\\frac{m^3}{kmol}] \\cdot \\frac{1 [kmol]}{1000 [mol]} = 2.677e-5 [\\frac{m^3}{mol}] $$\n",
    "\n",
    "Additionally:\n",
    "$$ \\bar{R} = 8.314 [\\frac{J}{mol \\cdot K}] $$\n",
    "$$ \\bar{v} = \\frac{V}{n} [\\frac{m^3}{mol}] $$\n",
    "$$ n_t = n_L + n_D $$\n",
    "\n",
    "Variables that can be set as a constraint:\n",
    "\n",
    "$ P_i $ Maximum Initial Pressure \\\n",
    "$ T_D $ Safe Minimum N2 Temperature\n",
    "\n",
    "Equation 1: \\\n",
    "$ P = P_i $ \\\n",
    "$ T = T_i $ \\\n",
    "$ \\bar{v} = \\frac{V_{N2}}{n_t} $\n",
    "\n",
    "Equation 2: \\\n",
    "$ P = P_L $ \\\n",
    "$ T = T_L $ \\\n",
    "$ \\bar{v} = \\frac{V_{N2}}{n_L} $\n",
    "\n",
    "Equation 3: \\\n",
    "$ P = P_D $ \\\n",
    "$ T = T_D $ \\\n",
    "$ \\bar{v} = \\frac{V_F + V_O}{n_D} $\n",
    "\n",
    "## Functions:"
   ]
  },
  {
   "cell_type": "code",
   "execution_count": 15,
   "metadata": {},
   "outputs": [],
   "source": [
    "V_F = keroVolume\n",
    "V_O = loxVolume\n",
    "V_P = V_F + V_O\n",
    "C_backflow = 1.15\n",
    "P_L = 600 * C_backflow * 6894.76\n",
    "P_D = 600 * 6894.76\n",
    "R = 8.314\n",
    "M_N2 = 0.02801\n",
    "T_i = 298.15\n",
    "t_b = 10.0"
   ]
  },
  {
   "cell_type": "markdown",
   "metadata": {},
   "source": [
    "# Isothermal Assumption\n",
    "$$ T_i = T_L = T_D = T $$\n",
    "\n",
    "Equation 3 gives us $n_D$ which will allow us to relate Equations 1 & 2 between three unknowns $P_i$, $V_{N2}$ and $n_L$. The diffused mass (moles) is constant and doesn't depend on any variables besides the volume of the propellant tanks and the pressure inside the propellant tanks.\n",
    "\n",
    "By setting an initial pressure constraint, or guessing it, we can solve the non-linear equation for the tank volume.\n",
    "\n",
    "The code below: (1) finds $n_D$ using iterative method, (2) calculates $V_{N2}$ and $n_L$ simultaneously using iterative method 6 times based on 6 chosen initial pressures (1000 to 6000 psi), and (3) fits a spline to these values."
   ]
  },
  {
   "cell_type": "code",
   "execution_count": 16,
   "metadata": {},
   "outputs": [
    {
     "name": "stdout",
     "output_type": "stream",
     "text": [
      "displaced N2 mass (kg) = [0.84557467]\n",
      "residual = [-4.36557457e-10]\n"
     ]
    }
   ],
   "source": [
    "from scipy.optimize import fsolve\n",
    "import matplotlib.pyplot as plt\n",
    "\n",
    "T_D = T_i\n",
    "T_L = T_i\n",
    "\n",
    "a = 1.553\n",
    "b = 2.677e-5\n",
    "\n",
    "def n2displaced(n_D):\n",
    "    return -P_D + R * T_D / ( ( V_P ) / n_D - b ) \\\n",
    "    - a / ( ( V_P ) / n_D * ( ( V_P ) / n_D + b )* T_D**(1/2) )\n",
    "\n",
    "initial_guess = 1\n",
    "\n",
    "n_D = fsolve(n2displaced, initial_guess)\n",
    "\n",
    "print('displaced N2 mass (kg) = {}'.format(n_D*M_N2))\n",
    "print('residual = {}'.format(n2displaced(n_D)))"
   ]
  },
  {
   "cell_type": "markdown",
   "metadata": {},
   "source": [
    "### Example Run Using Initial Pressure of 6000 psi"
   ]
  },
  {
   "cell_type": "code",
   "execution_count": 17,
   "metadata": {},
   "outputs": [
    {
     "name": "stdout",
     "output_type": "stream",
     "text": [
      "N2 tank volume (L) = 2.5633125590132235\n",
      "displaced N2 mass (kg) = 0.8455746666717243\n",
      "leftover N2 mass (kg) = 0.13949052699936518\n",
      "total N2 mass (kg) = 0.9850651936710895\n"
     ]
    }
   ],
   "source": [
    "P_i = 6000 * 6894.76\n",
    "\n",
    "n_D = float(n_D)\n",
    "\n",
    "def n2initial_leftover(vars):\n",
    "    V_N2, n_L = vars\n",
    "    initial = -P_i + R * T_i / ( V_N2 / ( n_L + n_D ) - b ) \\\n",
    "    - a / ( V_N2 / ( n_L + n_D ) * ( V_N2 / ( n_L + n_D ) + b ) * T_D**0.5 )\n",
    "    leftover = -P_L + R * T_L / ( V_N2 / n_L - b ) \\\n",
    "    - a / ( V_N2 / n_L * ( V_N2 / n_L + b ) * T_D**0.5 )\n",
    "    return [initial, leftover]\n",
    "\n",
    "initial_guess = [0.005, 1]\n",
    "\n",
    "V_N2, n_L = fsolve(n2initial_leftover, initial_guess)\n",
    "\n",
    "n_t = n_L + n_D\n",
    "\n",
    "V_N2_liters = 1000 * V_N2\n",
    "\n",
    "m_D = n_D * M_N2\n",
    "\n",
    "m_L = n_L * M_N2\n",
    "\n",
    "m_t = n_t * M_N2\n",
    "\n",
    "print('N2 tank volume (L) = {}'.format(V_N2_liters))\n",
    "print('displaced N2 mass (kg) = {}'.format(m_D))\n",
    "print('leftover N2 mass (kg) = {}'.format(m_L))\n",
    "print('total N2 mass (kg) = {}'.format(m_t))"
   ]
  },
  {
   "cell_type": "markdown",
   "metadata": {},
   "source": [
    "## ISOTHERMAL VOLUME / MASS OUTPUT\n",
    "### NOTE: Due to the nature of the equations, volume and mass follow the same exact non-dimensionalized shape. They are both plotted below, and while there appears to be one curve, they overlap. "
   ]
  },
  {
   "cell_type": "code",
   "execution_count": 18,
   "metadata": {},
   "outputs": [
    {
     "data": {
      "image/png": "[encoded data removed]",
      "text/plain": [
       "<Figure size 640x480 with 2 Axes>"
      ]
     },
     "metadata": {},
     "output_type": "display_data"
    }
   ],
   "source": [
    "P = np.linspace(2000, 6000, 51)    # Run loop for 51 values of initial pressure\n",
    "M = np.zeros(len(P))\n",
    "V = np.zeros(len(P))                # Store volume values on each run\n",
    "\n",
    "for i in range(0,len(P)):\n",
    "    P_i = P[i] * 6894.76\n",
    "    initial_guess = [0.005, 1]                              # Changing guess will not change final answer\n",
    "    V_N2, n_L = fsolve(n2initial_leftover, initial_guess)\n",
    "    V[i] = V_N2\n",
    "    M[i] = (n_L + n_D) * M_N2\n",
    "\n",
    "x = P\n",
    "y1 = V\n",
    "y2 = M\n",
    "\n",
    "# Left y-axis\n",
    "fig, ax1 = plt.subplots()\n",
    "ax1.plot(x, y1)\n",
    "ax1.set_xlabel('Initial Pressure [psi]')\n",
    "ax1.set_ylabel('N2 Volume [$m^3$]')\n",
    "ax1.tick_params('y')\n",
    "\n",
    "# Right y-axis\n",
    "ax2 = ax1.twinx()\n",
    "ax2.plot(x, y2)\n",
    "ax2.set_ylabel('Mass [kg]')\n",
    "ax2.tick_params('y')\n",
    "\n",
    "plt.title('N2 Volume and Mass vs. Initial Pressure')\n",
    "plt.show()"
   ]
  },
  {
   "cell_type": "markdown",
   "metadata": {},
   "source": [
    "# Isenthalpic Assumption\n",
    "To conserve enthalpy per unit mass (or per mole):\n",
    "$$ \\bar{h} = \\frac{H}{n} $$\n",
    "$$ \\frac{H_1}{n_1} = \\frac{H_2}{n_2} $$\n",
    "$$ H = C_p T $$\n",
    "\n",
    "Assume Cp is constant between initial and final condition.\n",
    "\n",
    "$$ \\frac{C_p T_i}{n_t} = \\frac{C_p T_L}{n_L} = \\frac{C_p T_D}{n_D} $$\n",
    "$$ \\frac{T_i}{n_t} = \\frac{T_L}{n_L} = \\frac{T_D}{n_D} $$\n",
    "\n",
    "$n_D$ no longer known, therefore are 5 unknowns: $n_D$, $n_L$, $T_D$, $T_L$, and $V_{N2}$. Solving it is essentially impossible just using educated guesses. Possible ways to reduce degrees of freedom:\n",
    "\n",
    "1. Reduce $T_L$ and $T_D$ into a single variable by finding relationship betwen them, eliminating one unknown.\n",
    "2. Find mass flow as a function of time using constant volumetric flow of N2, initial temperature, initial pressure, final pressure, burntime, pressure gradient, adiabatic assumption, pressure regulator function, etc. This will eliminate $n_D$ as an unknown."
   ]
  },
  {
   "cell_type": "code",
   "execution_count": 19,
   "metadata": {},
   "outputs": [
    {
     "name": "stdout",
     "output_type": "stream",
     "text": [
      "0.001 1.26045 1.4005 150.0 150.0\n",
      "residual = [-475514101.6292163, -395448455.70416135, -1290420.3652423264, -0.13684210526315788, 0.1964912280701756]\n"
     ]
    }
   ],
   "source": [
    "T_i = 298\n",
    "P_i = 3000\n",
    "\n",
    "def n2initial_leftover_isen(vars):\n",
    "    V_N2, n_L, n_D, T_L, T_D = vars\n",
    "    initial = -P_i + R * T_i / ( V_N2 / ( n_L + n_D ) - b ) \\\n",
    "    - a / ( V_N2 / ( n_L + n_D ) * ( V_N2 / ( n_L + n_D ) + b ) * T_D**0.5 )\n",
    "    leftover = -P_L + R * T_L / ( V_N2 / n_L - b ) \\\n",
    "    - a / ( V_N2 / n_L * ( V_N2 / n_L + b ) * T_D**0.5 )\n",
    "    displaced = -P_D + R * T_D / ( ( V_P ) / n_D - b ) \\\n",
    "    - a / ( ( V_P ) / n_D * ( ( V_P ) / n_D + b )* T_D**(1/2) )\n",
    "    isenthalpic_1 = -T_i / (n_D + n_L) + T_D / n_D\n",
    "    isenthalpic_2 = -T_i / (n_D + n_L) + T_L / n_L\n",
    "    return [initial, leftover, displaced, isenthalpic_1, isenthalpic_2]\n",
    "\n",
    "initial_guess = [0.001, 45, 50, 150, 150]\n",
    "\n",
    "V_N2, n_L, n_D, T_L, T_D = fsolve(n2initial_leftover_isen, initial_guess, maxfev=10000, )\n",
    "print(V_N2, n_L*M_N2, n_D*M_N2, T_L, T_D)\n",
    "print('residual = {}'.format(n2initial_leftover_isen([V_N2, n_L, n_D, T_L, T_D])))"
   ]
  },
  {
   "cell_type": "code",
   "execution_count": 20,
   "metadata": {},
   "outputs": [
    {
     "ename": "ValueError",
     "evalue": "too many values to unpack (expected 2)",
     "output_type": "error",
     "traceback": [
      "\u001b[1;31m---------------------------------------------------------------------------\u001b[0m",
      "\u001b[1;31mValueError\u001b[0m                                Traceback (most recent call last)",
      "\u001b[1;32mc:\\Users\\jared\\Documents\\GitHub\\Propellant-feed\\Tank Sizing Calculator\\tankSizing.ipynb Cell 19\u001b[0m line \u001b[0;36m5\n\u001b[0;32m      <a href='vscode-notebook-cell:/c%3A/Users/jared/Documents/GitHub/Propellant-feed/Tank%20Sizing%20Calculator/tankSizing.ipynb#X24sZmlsZQ%3D%3D?line=2'>3</a>\u001b[0m T \u001b[39m=\u001b[39m np\u001b[39m.\u001b[39mlinspace(\u001b[39m150\u001b[39m, \u001b[39m250\u001b[39m, \u001b[39m51\u001b[39m)\n\u001b[0;32m      <a href='vscode-notebook-cell:/c%3A/Users/jared/Documents/GitHub/Propellant-feed/Tank%20Sizing%20Calculator/tankSizing.ipynb#X24sZmlsZQ%3D%3D?line=3'>4</a>\u001b[0m T_length \u001b[39m=\u001b[39m \u001b[39mlen\u001b[39m(T)\n\u001b[1;32m----> <a href='vscode-notebook-cell:/c%3A/Users/jared/Documents/GitHub/Propellant-feed/Tank%20Sizing%20Calculator/tankSizing.ipynb#X24sZmlsZQ%3D%3D?line=4'>5</a>\u001b[0m P, T \u001b[39m=\u001b[39m np\u001b[39m.\u001b[39mmeshgrid(P,T,V)\n\u001b[0;32m      <a href='vscode-notebook-cell:/c%3A/Users/jared/Documents/GitHub/Propellant-feed/Tank%20Sizing%20Calculator/tankSizing.ipynb#X24sZmlsZQ%3D%3D?line=5'>6</a>\u001b[0m V \u001b[39m=\u001b[39m np\u001b[39m.\u001b[39mzeros([P_length, T_length])\n\u001b[0;32m      <a href='vscode-notebook-cell:/c%3A/Users/jared/Documents/GitHub/Propellant-feed/Tank%20Sizing%20Calculator/tankSizing.ipynb#X24sZmlsZQ%3D%3D?line=7'>8</a>\u001b[0m \u001b[39mfor\u001b[39;00m i \u001b[39min\u001b[39;00m \u001b[39mrange\u001b[39m(\u001b[39m0\u001b[39m,P_length):\n",
      "\u001b[1;31mValueError\u001b[0m: too many values to unpack (expected 2)"
     ]
    }
   ],
   "source": [
    "P = np.linspace(2000, 6000, 51)\n",
    "P_length = len(P)\n",
    "T = np.linspace(150, 250, 51)\n",
    "T_length = len(T)\n",
    "P, T = np.meshgrid(P,T,V)\n",
    "V = np.zeros([P_length, T_length])\n",
    "\n",
    "for i in range(0,P_length):\n",
    "    for j in range(0,T_length):\n",
    "        P_i = P[i]\n",
    "        T_L = T[i]\n",
    "        initial_guess = [0.005, 1, 1, 200]\n",
    "        V_N2, n_L, n_D, T_L = fsolve(n2initial_leftover_isen, initial_guess)\n",
    "        V[i,j] = V_N2\n",
    "\n",
    "\n",
    "#import plotly.graph_objects as go\n",
    "\n",
    "# Create the 3D surface plot\n",
    "#fig = go.Figure(data=[go.Surface(z=V, x=P, y=T)])\n",
    "\n",
    "# Set layout options for the plot\n",
    "#fig.update_layout(scene=dict(zaxis=dict(range=[-2, 2])))\n",
    "\n",
    "# Show the interactive plot\n",
    "#fig.show()\n"
   ]
  }
 ],
 "metadata": {
  "kernelspec": {
   "display_name": "Python 3",
   "language": "python",
   "name": "python3"
  },
  "language_info": {
   "codemirror_mode": {
    "name": "ipython",
    "version": 3
   },
   "file_extension": ".py",
   "mimetype": "text/x-python",
   "name": "python",
   "nbconvert_exporter": "python",
   "pygments_lexer": "ipython3",
   "version": "3.12.0"
  },
  "orig_nbformat": 4
 },
 "nbformat": 4,
 "nbformat_minor": 2
}
